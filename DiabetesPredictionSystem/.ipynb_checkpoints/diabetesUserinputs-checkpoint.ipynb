{
 "cells": [
  {
   "cell_type": "code",
   "execution_count": 2,
   "id": "52373c29",
   "metadata": {},
   "outputs": [],
   "source": [
    "import streamlit as st\n",
    "import pandas as pd\n",
    "import numpy as np\n",
    "import pickle"
   ]
  },
  {
   "cell_type": "code",
   "execution_count": 4,
   "id": "549f4629",
   "metadata": {},
   "outputs": [
    {
     "name": "stderr",
     "output_type": "stream",
     "text": [
      "2023-04-08 01:01:53.580 \n",
      "  \u001b[33m\u001b[1mWarning:\u001b[0m to view this Streamlit app on a browser, run it with the following\n",
      "  command:\n",
      "\n",
      "    streamlit run /Users/prachisatardekar/opt/anaconda3/lib/python3.9/site-packages/ipykernel_launcher.py [ARGUMENTS]\n"
     ]
    }
   ],
   "source": [
    "# Load the trained model\n",
    "model = pickle.load(open('diabetes_model.pkl', 'rb'))\n",
    "\n",
    "# Define the function to predict diabetes\n",
    "def predict_diabetes(pregnancies, glucose, blood_pressure, skin_thickness, insulin, bmi):\n",
    "    input_data = np.array([[pregnancies, glucose, blood_pressure, skin_thickness, insulin, bmi]])\n",
    "    prediction = model.predict(input_data)[0]\n",
    "    if prediction == 0:\n",
    "        return \"No diabetes\"\n",
    "    else:\n",
    "        return \"Diabetes\"\n",
    "\n",
    "# Create the Streamlit app\n",
    "def app():\n",
    "    st.title(\"Diabetes Prediction App\")\n",
    "\n",
    "    st.write(\"Please enter the following information:\")\n",
    "\n",
    "    pregnancies = st.slider(\"Number of pregnancies\", 0, 17, 1)\n",
    "    glucose = st.slider(\"Glucose level\", 0, 199, 80)\n",
    "    blood_pressure = st.slider(\"Blood pressure (mm Hg)\", 0, 122, 70)\n",
    "    skin_thickness = st.slider(\"Skin thickness (mm)\", 0, 99, 20)\n",
    "    insulin = st.slider(\"Insulin level (mu U/ml)\", 0, 846, 79)\n",
    "    bmi = st.slider(\"Body mass index (BMI)\", 0.0, 67.1, 25.0, 0.1)\n",
    "\n",
    "    if st.button(\"Predict\"):\n",
    "        result = predict_diabetes(pregnancies, glucose, blood_pressure, skin_thickness, insulin, bmi)\n",
    "        st.write(\"Based on the information you provided, the prediction is: \", result)\n",
    "\n",
    "if __name__ == '__main__':\n",
    "    app()"
   ]
  },
  {
   "cell_type": "code",
   "execution_count": null,
   "id": "bfe5ac42",
   "metadata": {},
   "outputs": [],
   "source": []
  }
 ],
 "metadata": {
  "kernelspec": {
   "display_name": "Python 3 (ipykernel)",
   "language": "python",
   "name": "python3"
  },
  "language_info": {
   "codemirror_mode": {
    "name": "ipython",
    "version": 3
   },
   "file_extension": ".py",
   "mimetype": "text/x-python",
   "name": "python",
   "nbconvert_exporter": "python",
   "pygments_lexer": "ipython3",
   "version": "3.9.12"
  }
 },
 "nbformat": 4,
 "nbformat_minor": 5
}
